{
 "cells": [
  {
   "cell_type": "code",
   "execution_count": 2,
   "metadata": {
    "scrolled": true
   },
   "outputs": [],
   "source": [
    "import pandas as pd\n",
    "stats = pd.read_csv('stats.csv')\n",
    "players = pd.read_csv('players.csv')\n",
    "standings = pd.read_csv('standings.csv')\n",
    "\n",
    "#getting rid of city and making new country column for analysis later:\n",
    "players['country'] = players['hometown'].str.split('|').str[0] \n",
    "\n",
    "#merging two files made from seperate scrapes on player name, 4 players lost on merge\n",
    "playerstats = pd.merge(stats,players, on= 'player')\n",
    "\n",
    "#saving merged file to final csv\n",
    "playerstats.to_csv('overwatch_player_stats.csv',index=False)"
   ]
  },
  {
   "cell_type": "code",
   "execution_count": 3,
   "metadata": {},
   "outputs": [
    {
     "data": {
      "text/html": [
       "<div>\n",
       "<style scoped>\n",
       "    .dataframe tbody tr th:only-of-type {\n",
       "        vertical-align: middle;\n",
       "    }\n",
       "\n",
       "    .dataframe tbody tr th {\n",
       "        vertical-align: top;\n",
       "    }\n",
       "\n",
       "    .dataframe thead th {\n",
       "        text-align: right;\n",
       "    }\n",
       "</style>\n",
       "<table border=\"1\" class=\"dataframe\">\n",
       "  <thead>\n",
       "    <tr style=\"text-align: right;\">\n",
       "      <th></th>\n",
       "      <th>player</th>\n",
       "      <th>team</th>\n",
       "      <th>eliminations</th>\n",
       "      <th>deaths</th>\n",
       "      <th>damage</th>\n",
       "      <th>healing</th>\n",
       "      <th>name</th>\n",
       "      <th>hometown</th>\n",
       "      <th>role</th>\n",
       "      <th>country</th>\n",
       "    </tr>\n",
       "  </thead>\n",
       "  <tbody>\n",
       "    <tr>\n",
       "      <th>0</th>\n",
       "      <td>Adora</td>\n",
       "      <td>Hangzhou Spark</td>\n",
       "      <td>16.01</td>\n",
       "      <td>3.88</td>\n",
       "      <td>5390</td>\n",
       "      <td>5678</td>\n",
       "      <td>Jaehwan Kang</td>\n",
       "      <td>South Korea | Changwon</td>\n",
       "      <td>Offense</td>\n",
       "      <td>South Korea</td>\n",
       "    </tr>\n",
       "    <tr>\n",
       "      <th>1</th>\n",
       "      <td>Agilities</td>\n",
       "      <td>Los Angeles Valiant</td>\n",
       "      <td>15.94</td>\n",
       "      <td>5.53</td>\n",
       "      <td>6591</td>\n",
       "      <td>6535</td>\n",
       "      <td>Brady Girardi</td>\n",
       "      <td>Canada | Lethbridge</td>\n",
       "      <td>Offense</td>\n",
       "      <td>Canada</td>\n",
       "    </tr>\n",
       "    <tr>\n",
       "      <th>2</th>\n",
       "      <td>AimGod</td>\n",
       "      <td>Boston Uprising</td>\n",
       "      <td>13.42</td>\n",
       "      <td>4.69</td>\n",
       "      <td>6721</td>\n",
       "      <td>9486</td>\n",
       "      <td>Minseok Kwon</td>\n",
       "      <td>South Korea | Busan</td>\n",
       "      <td>Support</td>\n",
       "      <td>South Korea</td>\n",
       "    </tr>\n",
       "    <tr>\n",
       "      <th>3</th>\n",
       "      <td>aKm</td>\n",
       "      <td>Dallas Fuel</td>\n",
       "      <td>17.30</td>\n",
       "      <td>5.18</td>\n",
       "      <td>9600</td>\n",
       "      <td>158</td>\n",
       "      <td>Dylan Bignet</td>\n",
       "      <td>France | Angoulême</td>\n",
       "      <td>Offense</td>\n",
       "      <td>France</td>\n",
       "    </tr>\n",
       "    <tr>\n",
       "      <th>4</th>\n",
       "      <td>alemao</td>\n",
       "      <td>Boston Uprising</td>\n",
       "      <td>8.19</td>\n",
       "      <td>4.99</td>\n",
       "      <td>3918</td>\n",
       "      <td>5662</td>\n",
       "      <td>Renan Moretto</td>\n",
       "      <td>Brazil | São Caetano do Sul, São Paulo</td>\n",
       "      <td>Support</td>\n",
       "      <td>Brazil</td>\n",
       "    </tr>\n",
       "    <tr>\n",
       "      <th>5</th>\n",
       "      <td>ameng</td>\n",
       "      <td>Chengdu Hunters</td>\n",
       "      <td>16.48</td>\n",
       "      <td>6.21</td>\n",
       "      <td>7051</td>\n",
       "      <td>0</td>\n",
       "      <td>Menghan Ding</td>\n",
       "      <td>China | Henan</td>\n",
       "      <td>Tank</td>\n",
       "      <td>China</td>\n",
       "    </tr>\n",
       "    <tr>\n",
       "      <th>6</th>\n",
       "      <td>Anamo</td>\n",
       "      <td>New York Excelsior</td>\n",
       "      <td>14.17</td>\n",
       "      <td>2.75</td>\n",
       "      <td>3948</td>\n",
       "      <td>6563</td>\n",
       "      <td>Tae-Sung Jung</td>\n",
       "      <td>South Korea | Pohang</td>\n",
       "      <td>Support</td>\n",
       "      <td>South Korea</td>\n",
       "    </tr>\n",
       "    <tr>\n",
       "      <th>7</th>\n",
       "      <td>Architect</td>\n",
       "      <td>San Francisco Shock</td>\n",
       "      <td>18.19</td>\n",
       "      <td>4.56</td>\n",
       "      <td>7825</td>\n",
       "      <td>3806</td>\n",
       "      <td>Minho Park</td>\n",
       "      <td>South Korea | Hongseong</td>\n",
       "      <td>Offense</td>\n",
       "      <td>South Korea</td>\n",
       "    </tr>\n",
       "    <tr>\n",
       "      <th>8</th>\n",
       "      <td>ArHaN</td>\n",
       "      <td>Houston Outlaws</td>\n",
       "      <td>9.99</td>\n",
       "      <td>6.40</td>\n",
       "      <td>4640</td>\n",
       "      <td>7131</td>\n",
       "      <td>WonHyeop Jung</td>\n",
       "      <td>South Korea | BUSAN</td>\n",
       "      <td>Offense</td>\n",
       "      <td>South Korea</td>\n",
       "    </tr>\n",
       "    <tr>\n",
       "      <th>9</th>\n",
       "      <td>ArK</td>\n",
       "      <td>Washington Justice</td>\n",
       "      <td>7.88</td>\n",
       "      <td>2.65</td>\n",
       "      <td>2482</td>\n",
       "      <td>6825</td>\n",
       "      <td>Yeonjun Hong</td>\n",
       "      <td>South Korea | Seoul</td>\n",
       "      <td>Support</td>\n",
       "      <td>South Korea</td>\n",
       "    </tr>\n",
       "    <tr>\n",
       "      <th>10</th>\n",
       "      <td>Axxiom</td>\n",
       "      <td>Boston Uprising</td>\n",
       "      <td>13.59</td>\n",
       "      <td>6.33</td>\n",
       "      <td>7227</td>\n",
       "      <td>0</td>\n",
       "      <td>Minseob Park</td>\n",
       "      <td>South Korea | Seoul</td>\n",
       "      <td>Tank</td>\n",
       "      <td>South Korea</td>\n",
       "    </tr>\n",
       "    <tr>\n",
       "      <th>11</th>\n",
       "      <td>babybay</td>\n",
       "      <td>Atlanta Reign</td>\n",
       "      <td>18.29</td>\n",
       "      <td>4.90</td>\n",
       "      <td>9724</td>\n",
       "      <td>153</td>\n",
       "      <td>Andrej Francisty</td>\n",
       "      <td>United States | Chicago, IL</td>\n",
       "      <td>Offense</td>\n",
       "      <td>United States</td>\n",
       "    </tr>\n",
       "    <tr>\n",
       "      <th>12</th>\n",
       "      <td>Baconjack</td>\n",
       "      <td>Chengdu Hunters</td>\n",
       "      <td>15.61</td>\n",
       "      <td>6.12</td>\n",
       "      <td>7305</td>\n",
       "      <td>123</td>\n",
       "      <td>Tzu-Heng Lo</td>\n",
       "      <td>Chinese Taipei | Taoyuan</td>\n",
       "      <td>Offense</td>\n",
       "      <td>Chinese Taipei</td>\n",
       "    </tr>\n",
       "    <tr>\n",
       "      <th>13</th>\n",
       "      <td>Bani</td>\n",
       "      <td>Houston Outlaws</td>\n",
       "      <td>11.31</td>\n",
       "      <td>5.26</td>\n",
       "      <td>4791</td>\n",
       "      <td>6825</td>\n",
       "      <td>Christopher Benell</td>\n",
       "      <td>Canada | Ottawa</td>\n",
       "      <td>Support</td>\n",
       "      <td>Canada</td>\n",
       "    </tr>\n",
       "    <tr>\n",
       "      <th>14</th>\n",
       "      <td>Bazzi</td>\n",
       "      <td>Hangzhou Spark</td>\n",
       "      <td>15.82</td>\n",
       "      <td>5.85</td>\n",
       "      <td>5369</td>\n",
       "      <td>7506</td>\n",
       "      <td>JunKi Park</td>\n",
       "      <td>South Korea | Busan</td>\n",
       "      <td>Offense</td>\n",
       "      <td>South Korea</td>\n",
       "    </tr>\n",
       "    <tr>\n",
       "      <th>15</th>\n",
       "      <td>Bdosin</td>\n",
       "      <td>London Spitfire</td>\n",
       "      <td>15.05</td>\n",
       "      <td>4.11</td>\n",
       "      <td>6983</td>\n",
       "      <td>8836</td>\n",
       "      <td>Seungtae Choi</td>\n",
       "      <td>South Korea | Suwon</td>\n",
       "      <td>Support</td>\n",
       "      <td>South Korea</td>\n",
       "    </tr>\n",
       "    <tr>\n",
       "      <th>16</th>\n",
       "      <td>BEBE</td>\n",
       "      <td>Hangzhou Spark</td>\n",
       "      <td>14.16</td>\n",
       "      <td>3.96</td>\n",
       "      <td>7197</td>\n",
       "      <td>9429</td>\n",
       "      <td>Heechang Yoon</td>\n",
       "      <td>South Korea | DAEGU</td>\n",
       "      <td>Support</td>\n",
       "      <td>South Korea</td>\n",
       "    </tr>\n",
       "    <tr>\n",
       "      <th>17</th>\n",
       "      <td>BenBest</td>\n",
       "      <td>Paris Eternal</td>\n",
       "      <td>13.42</td>\n",
       "      <td>6.59</td>\n",
       "      <td>6648</td>\n",
       "      <td>0</td>\n",
       "      <td>Benjamin Dieulafait</td>\n",
       "      <td>France | Nice</td>\n",
       "      <td>Tank</td>\n",
       "      <td>France</td>\n",
       "    </tr>\n",
       "    <tr>\n",
       "      <th>18</th>\n",
       "      <td>BigG00se</td>\n",
       "      <td>Los Angeles Gladiators</td>\n",
       "      <td>12.36</td>\n",
       "      <td>4.69</td>\n",
       "      <td>3870</td>\n",
       "      <td>6429</td>\n",
       "      <td>Benjamin Isohanni</td>\n",
       "      <td>Finland | Kokkola</td>\n",
       "      <td>Support</td>\n",
       "      <td>Finland</td>\n",
       "    </tr>\n",
       "    <tr>\n",
       "      <th>19</th>\n",
       "      <td>Bischu</td>\n",
       "      <td>Guangzhou Charge</td>\n",
       "      <td>16.80</td>\n",
       "      <td>5.93</td>\n",
       "      <td>7229</td>\n",
       "      <td>1836</td>\n",
       "      <td>Aaron Kim</td>\n",
       "      <td>South Korea | Seoul</td>\n",
       "      <td>Tank</td>\n",
       "      <td>South Korea</td>\n",
       "    </tr>\n",
       "  </tbody>\n",
       "</table>\n",
       "</div>"
      ],
      "text/plain": [
       "       player                    team  eliminations  deaths  damage  healing  \\\n",
       "0       Adora          Hangzhou Spark         16.01    3.88    5390     5678   \n",
       "1   Agilities     Los Angeles Valiant         15.94    5.53    6591     6535   \n",
       "2      AimGod         Boston Uprising         13.42    4.69    6721     9486   \n",
       "3         aKm             Dallas Fuel         17.30    5.18    9600      158   \n",
       "4      alemao         Boston Uprising          8.19    4.99    3918     5662   \n",
       "5       ameng         Chengdu Hunters         16.48    6.21    7051        0   \n",
       "6       Anamo      New York Excelsior         14.17    2.75    3948     6563   \n",
       "7   Architect     San Francisco Shock         18.19    4.56    7825     3806   \n",
       "8       ArHaN         Houston Outlaws          9.99    6.40    4640     7131   \n",
       "9         ArK      Washington Justice          7.88    2.65    2482     6825   \n",
       "10     Axxiom         Boston Uprising         13.59    6.33    7227        0   \n",
       "11    babybay           Atlanta Reign         18.29    4.90    9724      153   \n",
       "12  Baconjack         Chengdu Hunters         15.61    6.12    7305      123   \n",
       "13       Bani         Houston Outlaws         11.31    5.26    4791     6825   \n",
       "14      Bazzi          Hangzhou Spark         15.82    5.85    5369     7506   \n",
       "15     Bdosin         London Spitfire         15.05    4.11    6983     8836   \n",
       "16       BEBE          Hangzhou Spark         14.16    3.96    7197     9429   \n",
       "17    BenBest           Paris Eternal         13.42    6.59    6648        0   \n",
       "18   BigG00se  Los Angeles Gladiators         12.36    4.69    3870     6429   \n",
       "19     Bischu        Guangzhou Charge         16.80    5.93    7229     1836   \n",
       "\n",
       "                   name                                hometown     role  \\\n",
       "0          Jaehwan Kang                  South Korea | Changwon  Offense   \n",
       "1         Brady Girardi                     Canada | Lethbridge  Offense   \n",
       "2          Minseok Kwon                     South Korea | Busan  Support   \n",
       "3          Dylan Bignet                      France | Angoulême  Offense   \n",
       "4         Renan Moretto  Brazil | São Caetano do Sul, São Paulo  Support   \n",
       "5          Menghan Ding                           China | Henan     Tank   \n",
       "6         Tae-Sung Jung                    South Korea | Pohang  Support   \n",
       "7            Minho Park                 South Korea | Hongseong  Offense   \n",
       "8         WonHyeop Jung                     South Korea | BUSAN  Offense   \n",
       "9          Yeonjun Hong                     South Korea | Seoul  Support   \n",
       "10         Minseob Park                     South Korea | Seoul     Tank   \n",
       "11     Andrej Francisty             United States | Chicago, IL  Offense   \n",
       "12          Tzu-Heng Lo                Chinese Taipei | Taoyuan  Offense   \n",
       "13   Christopher Benell                         Canada | Ottawa  Support   \n",
       "14           JunKi Park                     South Korea | Busan  Offense   \n",
       "15        Seungtae Choi                     South Korea | Suwon  Support   \n",
       "16        Heechang Yoon                     South Korea | DAEGU  Support   \n",
       "17  Benjamin Dieulafait                           France | Nice     Tank   \n",
       "18    Benjamin Isohanni                       Finland | Kokkola  Support   \n",
       "19            Aaron Kim                     South Korea | Seoul     Tank   \n",
       "\n",
       "            country  \n",
       "0      South Korea   \n",
       "1           Canada   \n",
       "2      South Korea   \n",
       "3           France   \n",
       "4           Brazil   \n",
       "5            China   \n",
       "6      South Korea   \n",
       "7      South Korea   \n",
       "8      South Korea   \n",
       "9      South Korea   \n",
       "10     South Korea   \n",
       "11   United States   \n",
       "12  Chinese Taipei   \n",
       "13          Canada   \n",
       "14     South Korea   \n",
       "15     South Korea   \n",
       "16     South Korea   \n",
       "17          France   \n",
       "18         Finland   \n",
       "19     South Korea   "
      ]
     },
     "execution_count": 3,
     "metadata": {},
     "output_type": "execute_result"
    }
   ],
   "source": [
    "playerstats.head(20)"
   ]
  },
  {
   "cell_type": "code",
   "execution_count": 4,
   "metadata": {},
   "outputs": [
    {
     "data": {
      "text/plain": [
       "team\n",
       "Atlanta Reign             10\n",
       "Boston Uprising           10\n",
       "Chengdu Hunters           10\n",
       "Dallas Fuel               10\n",
       "Florida Mayhem             6\n",
       "Guangzhou Charge          11\n",
       "Hangzhou Spark            11\n",
       "Houston Outlaws           10\n",
       "London Spitfire            6\n",
       "Los Angeles Gladiators     8\n",
       "Los Angeles Valiant        8\n",
       "New York Excelsior         7\n",
       "Paris Eternal             10\n",
       "Philadelphia Fusion        9\n",
       "San Francisco Shock        9\n",
       "Seoul Dynasty             10\n",
       "Shanghai Dragons          10\n",
       "Toronto Defiant            6\n",
       "Vancouver Titans           9\n",
       "Washington Justice         5\n",
       "dtype: int64"
      ]
     },
     "execution_count": 4,
     "metadata": {},
     "output_type": "execute_result"
    }
   ],
   "source": [
    "teamgroup = playerstats.groupby('team')\n",
    "teamgroup.size()"
   ]
  },
  {
   "cell_type": "code",
   "execution_count": 5,
   "metadata": {},
   "outputs": [],
   "source": [
    "team_summary=teamgroup.mean()\n",
    "team_summary_final = pd.merge(team_summary,standings, on= 'team')\n",
    "team_summary_final = team_summary_final.round({\"eliminations\":2, \"deaths\":2, \"damage\":1,\"healing\":1})"
   ]
  },
  {
   "cell_type": "code",
   "execution_count": 15,
   "metadata": {},
   "outputs": [
    {
     "data": {
      "text/html": [
       "<div>\n",
       "<style scoped>\n",
       "    .dataframe tbody tr th:only-of-type {\n",
       "        vertical-align: middle;\n",
       "    }\n",
       "\n",
       "    .dataframe tbody tr th {\n",
       "        vertical-align: top;\n",
       "    }\n",
       "\n",
       "    .dataframe thead th {\n",
       "        text-align: right;\n",
       "    }\n",
       "</style>\n",
       "<table border=\"1\" class=\"dataframe\">\n",
       "  <thead>\n",
       "    <tr style=\"text-align: right;\">\n",
       "      <th></th>\n",
       "      <th>team</th>\n",
       "      <th>eliminations</th>\n",
       "      <th>deaths</th>\n",
       "      <th>damage</th>\n",
       "      <th>healing</th>\n",
       "      <th>wins</th>\n",
       "      <th>losses</th>\n",
       "      <th>Wins-Losses</th>\n",
       "    </tr>\n",
       "  </thead>\n",
       "  <tbody>\n",
       "    <tr>\n",
       "      <th>18</th>\n",
       "      <td>Vancouver Titans</td>\n",
       "      <td>17.23</td>\n",
       "      <td>4.55</td>\n",
       "      <td>6821.0</td>\n",
       "      <td>3819.8</td>\n",
       "      <td>25</td>\n",
       "      <td>3</td>\n",
       "      <td>22</td>\n",
       "    </tr>\n",
       "    <tr>\n",
       "      <th>14</th>\n",
       "      <td>San Francisco Shock</td>\n",
       "      <td>17.43</td>\n",
       "      <td>4.47</td>\n",
       "      <td>7259.8</td>\n",
       "      <td>3302.2</td>\n",
       "      <td>23</td>\n",
       "      <td>5</td>\n",
       "      <td>18</td>\n",
       "    </tr>\n",
       "    <tr>\n",
       "      <th>11</th>\n",
       "      <td>New York Excelsior</td>\n",
       "      <td>16.92</td>\n",
       "      <td>4.01</td>\n",
       "      <td>6336.1</td>\n",
       "      <td>3183.1</td>\n",
       "      <td>22</td>\n",
       "      <td>6</td>\n",
       "      <td>16</td>\n",
       "    </tr>\n",
       "    <tr>\n",
       "      <th>6</th>\n",
       "      <td>Hangzhou Spark</td>\n",
       "      <td>15.01</td>\n",
       "      <td>4.65</td>\n",
       "      <td>6278.5</td>\n",
       "      <td>4158.4</td>\n",
       "      <td>18</td>\n",
       "      <td>10</td>\n",
       "      <td>8</td>\n",
       "    </tr>\n",
       "    <tr>\n",
       "      <th>9</th>\n",
       "      <td>Los Angeles Gladiators</td>\n",
       "      <td>15.42</td>\n",
       "      <td>4.70</td>\n",
       "      <td>6921.1</td>\n",
       "      <td>4900.9</td>\n",
       "      <td>17</td>\n",
       "      <td>11</td>\n",
       "      <td>6</td>\n",
       "    </tr>\n",
       "    <tr>\n",
       "      <th>0</th>\n",
       "      <td>Atlanta Reign</td>\n",
       "      <td>15.78</td>\n",
       "      <td>5.05</td>\n",
       "      <td>6222.3</td>\n",
       "      <td>2971.2</td>\n",
       "      <td>16</td>\n",
       "      <td>12</td>\n",
       "      <td>4</td>\n",
       "    </tr>\n",
       "    <tr>\n",
       "      <th>8</th>\n",
       "      <td>London Spitfire</td>\n",
       "      <td>15.08</td>\n",
       "      <td>4.45</td>\n",
       "      <td>6163.0</td>\n",
       "      <td>4435.2</td>\n",
       "      <td>16</td>\n",
       "      <td>12</td>\n",
       "      <td>4</td>\n",
       "    </tr>\n",
       "    <tr>\n",
       "      <th>13</th>\n",
       "      <td>Philadelphia Fusion</td>\n",
       "      <td>14.56</td>\n",
       "      <td>5.17</td>\n",
       "      <td>5830.2</td>\n",
       "      <td>4716.6</td>\n",
       "      <td>15</td>\n",
       "      <td>13</td>\n",
       "      <td>2</td>\n",
       "    </tr>\n",
       "    <tr>\n",
       "      <th>5</th>\n",
       "      <td>Guangzhou Charge</td>\n",
       "      <td>14.54</td>\n",
       "      <td>4.38</td>\n",
       "      <td>5529.6</td>\n",
       "      <td>3245.3</td>\n",
       "      <td>15</td>\n",
       "      <td>13</td>\n",
       "      <td>2</td>\n",
       "    </tr>\n",
       "    <tr>\n",
       "      <th>15</th>\n",
       "      <td>Seoul Dynasty</td>\n",
       "      <td>15.93</td>\n",
       "      <td>4.23</td>\n",
       "      <td>6324.7</td>\n",
       "      <td>3699.5</td>\n",
       "      <td>15</td>\n",
       "      <td>13</td>\n",
       "      <td>2</td>\n",
       "    </tr>\n",
       "    <tr>\n",
       "      <th>16</th>\n",
       "      <td>Shanghai Dragons</td>\n",
       "      <td>15.57</td>\n",
       "      <td>4.96</td>\n",
       "      <td>6898.2</td>\n",
       "      <td>3087.3</td>\n",
       "      <td>13</td>\n",
       "      <td>15</td>\n",
       "      <td>-2</td>\n",
       "    </tr>\n",
       "    <tr>\n",
       "      <th>2</th>\n",
       "      <td>Chengdu Hunters</td>\n",
       "      <td>14.07</td>\n",
       "      <td>5.48</td>\n",
       "      <td>6501.3</td>\n",
       "      <td>2600.7</td>\n",
       "      <td>13</td>\n",
       "      <td>15</td>\n",
       "      <td>-2</td>\n",
       "    </tr>\n",
       "    <tr>\n",
       "      <th>10</th>\n",
       "      <td>Los Angeles Valiant</td>\n",
       "      <td>14.70</td>\n",
       "      <td>4.94</td>\n",
       "      <td>6220.2</td>\n",
       "      <td>2559.1</td>\n",
       "      <td>12</td>\n",
       "      <td>16</td>\n",
       "      <td>-4</td>\n",
       "    </tr>\n",
       "    <tr>\n",
       "      <th>12</th>\n",
       "      <td>Paris Eternal</td>\n",
       "      <td>14.78</td>\n",
       "      <td>5.62</td>\n",
       "      <td>6361.9</td>\n",
       "      <td>3633.3</td>\n",
       "      <td>11</td>\n",
       "      <td>17</td>\n",
       "      <td>-6</td>\n",
       "    </tr>\n",
       "    <tr>\n",
       "      <th>3</th>\n",
       "      <td>Dallas Fuel</td>\n",
       "      <td>13.46</td>\n",
       "      <td>5.39</td>\n",
       "      <td>5782.8</td>\n",
       "      <td>3517.4</td>\n",
       "      <td>10</td>\n",
       "      <td>18</td>\n",
       "      <td>-8</td>\n",
       "    </tr>\n",
       "    <tr>\n",
       "      <th>7</th>\n",
       "      <td>Houston Outlaws</td>\n",
       "      <td>13.63</td>\n",
       "      <td>5.35</td>\n",
       "      <td>5918.6</td>\n",
       "      <td>3501.1</td>\n",
       "      <td>9</td>\n",
       "      <td>19</td>\n",
       "      <td>-10</td>\n",
       "    </tr>\n",
       "    <tr>\n",
       "      <th>1</th>\n",
       "      <td>Boston Uprising</td>\n",
       "      <td>12.76</td>\n",
       "      <td>5.29</td>\n",
       "      <td>5818.5</td>\n",
       "      <td>4153.1</td>\n",
       "      <td>8</td>\n",
       "      <td>20</td>\n",
       "      <td>-12</td>\n",
       "    </tr>\n",
       "    <tr>\n",
       "      <th>17</th>\n",
       "      <td>Toronto Defiant</td>\n",
       "      <td>14.43</td>\n",
       "      <td>5.67</td>\n",
       "      <td>6676.5</td>\n",
       "      <td>2885.0</td>\n",
       "      <td>8</td>\n",
       "      <td>20</td>\n",
       "      <td>-12</td>\n",
       "    </tr>\n",
       "    <tr>\n",
       "      <th>19</th>\n",
       "      <td>Washington Justice</td>\n",
       "      <td>12.28</td>\n",
       "      <td>4.30</td>\n",
       "      <td>6009.0</td>\n",
       "      <td>5171.0</td>\n",
       "      <td>8</td>\n",
       "      <td>20</td>\n",
       "      <td>-12</td>\n",
       "    </tr>\n",
       "    <tr>\n",
       "      <th>4</th>\n",
       "      <td>Florida Mayhem</td>\n",
       "      <td>14.64</td>\n",
       "      <td>5.11</td>\n",
       "      <td>5423.8</td>\n",
       "      <td>3237.7</td>\n",
       "      <td>6</td>\n",
       "      <td>22</td>\n",
       "      <td>-16</td>\n",
       "    </tr>\n",
       "  </tbody>\n",
       "</table>\n",
       "</div>"
      ],
      "text/plain": [
       "                      team  eliminations  deaths  damage  healing  wins  \\\n",
       "18        Vancouver Titans         17.23    4.55  6821.0   3819.8    25   \n",
       "14     San Francisco Shock         17.43    4.47  7259.8   3302.2    23   \n",
       "11      New York Excelsior         16.92    4.01  6336.1   3183.1    22   \n",
       "6           Hangzhou Spark         15.01    4.65  6278.5   4158.4    18   \n",
       "9   Los Angeles Gladiators         15.42    4.70  6921.1   4900.9    17   \n",
       "0            Atlanta Reign         15.78    5.05  6222.3   2971.2    16   \n",
       "8          London Spitfire         15.08    4.45  6163.0   4435.2    16   \n",
       "13     Philadelphia Fusion         14.56    5.17  5830.2   4716.6    15   \n",
       "5         Guangzhou Charge         14.54    4.38  5529.6   3245.3    15   \n",
       "15           Seoul Dynasty         15.93    4.23  6324.7   3699.5    15   \n",
       "16        Shanghai Dragons         15.57    4.96  6898.2   3087.3    13   \n",
       "2          Chengdu Hunters         14.07    5.48  6501.3   2600.7    13   \n",
       "10     Los Angeles Valiant         14.70    4.94  6220.2   2559.1    12   \n",
       "12           Paris Eternal         14.78    5.62  6361.9   3633.3    11   \n",
       "3              Dallas Fuel         13.46    5.39  5782.8   3517.4    10   \n",
       "7          Houston Outlaws         13.63    5.35  5918.6   3501.1     9   \n",
       "1          Boston Uprising         12.76    5.29  5818.5   4153.1     8   \n",
       "17         Toronto Defiant         14.43    5.67  6676.5   2885.0     8   \n",
       "19      Washington Justice         12.28    4.30  6009.0   5171.0     8   \n",
       "4           Florida Mayhem         14.64    5.11  5423.8   3237.7     6   \n",
       "\n",
       "    losses  Wins-Losses  \n",
       "18       3           22  \n",
       "14       5           18  \n",
       "11       6           16  \n",
       "6       10            8  \n",
       "9       11            6  \n",
       "0       12            4  \n",
       "8       12            4  \n",
       "13      13            2  \n",
       "5       13            2  \n",
       "15      13            2  \n",
       "16      15           -2  \n",
       "2       15           -2  \n",
       "10      16           -4  \n",
       "12      17           -6  \n",
       "3       18           -8  \n",
       "7       19          -10  \n",
       "1       20          -12  \n",
       "17      20          -12  \n",
       "19      20          -12  \n",
       "4       22          -16  "
      ]
     },
     "execution_count": 15,
     "metadata": {},
     "output_type": "execute_result"
    }
   ],
   "source": [
    "team_summary_final['Wins-Losses']=(team_summary_final['wins']-team_summary_final['losses'])\n",
    "team_summary_final=team_summary_final.sort_values('Wins-Losses', ascending=False)\n",
    "team_summary_final"
   ]
  },
  {
   "cell_type": "code",
   "execution_count": 16,
   "metadata": {},
   "outputs": [],
   "source": [
    "team_summary_final.to_csv('overwatch_team_stats.csv',index=False)"
   ]
  },
  {
   "cell_type": "code",
   "execution_count": 7,
   "metadata": {
    "scrolled": true
   },
   "outputs": [
    {
     "data": {
      "text/plain": [
       "wins            1.000000\n",
       "eliminations    0.849067\n",
       "damage          0.563145\n",
       "healing         0.034460\n",
       "deaths         -0.604933\n",
       "losses         -1.000000\n",
       "Name: Wins-Losses, dtype: float64"
      ]
     },
     "execution_count": 7,
     "metadata": {},
     "output_type": "execute_result"
    }
   ],
   "source": [
    "from sklearn import datasets\n",
    "correlations = team_summary_final.corr(method='pearson')['Wins-Losses'][:-1].sort_values(ascending=False)\n",
    "correlations"
   ]
  },
  {
   "cell_type": "code",
   "execution_count": 104,
   "metadata": {
    "scrolled": true
   },
   "outputs": [
    {
     "data": {
      "text/plain": [
       "<seaborn.axisgrid.FacetGrid at 0x1c55f2e2b70>"
      ]
     },
     "execution_count": 104,
     "metadata": {},
     "output_type": "execute_result"
    },
    {
     "data": {
      "image/png": "[encoded data removed]",
      "text/plain": [
       "<Figure size 360x360 with 1 Axes>"
      ]
     },
     "metadata": {},
     "output_type": "display_data"
    }
   ],
   "source": [
    "import seaborn as sns\n",
    "sns.lmplot(\"eliminations\", \"Wins-Losses\", team_summary_final)"
   ]
  },
  {
   "cell_type": "code",
   "execution_count": 106,
   "metadata": {},
   "outputs": [
    {
     "data": {
      "text/plain": [
       "<seaborn.axisgrid.FacetGrid at 0x1c55f783a90>"
      ]
     },
     "execution_count": 106,
     "metadata": {},
     "output_type": "execute_result"
    },
    {
     "data": {
      "image/png": "[encoded data removed]",
      "text/plain": [
       "<Figure size 360x360 with 1 Axes>"
      ]
     },
     "metadata": {},
     "output_type": "display_data"
    }
   ],
   "source": [
    "import seaborn as sns\n",
    "sns.lmplot(\"deaths\", \"Wins-Losses\", team_summary_final)"
   ]
  },
  {
   "cell_type": "code",
   "execution_count": 107,
   "metadata": {},
   "outputs": [
    {
     "data": {
      "text/plain": [
       "<seaborn.axisgrid.FacetGrid at 0x1c55f7f7b00>"
      ]
     },
     "execution_count": 107,
     "metadata": {},
     "output_type": "execute_result"
    },
    {
     "data": {
      "image/png": "[encoded data removed]",
      "text/plain": [
       "<Figure size 360x360 with 1 Axes>"
      ]
     },
     "metadata": {},
     "output_type": "display_data"
    }
   ],
   "source": [
    "import seaborn as sns\n",
    "sns.lmplot(\"healing\", \"Wins-Losses\", team_summary_final)"
   ]
  },
  {
   "cell_type": "code",
   "execution_count": 8,
   "metadata": {},
   "outputs": [],
   "source": [
    "countrygroup = playerstats.groupby('country')\n",
    "rolegroup = playerstats.groupby('role')"
   ]
  },
  {
   "cell_type": "code",
   "execution_count": 99,
   "metadata": {},
   "outputs": [
    {
     "data": {
      "image/png": "[encoded data removed]",
      "text/plain": [
       "<Figure size 576x576 with 1 Axes>"
      ]
     },
     "metadata": {},
     "output_type": "display_data"
    }
   ],
   "source": [
    "countrypie=countrygroup.size().sort_values(ascending=False)[:7]\n",
    "countrypie.columns=['country','size']\n",
    "plot = countrypie.plot.pie(y='size', figsize=(8, 8))\n"
   ]
  },
  {
   "cell_type": "code",
   "execution_count": null,
   "metadata": {},
   "outputs": [],
   "source": []
  },
  {
   "cell_type": "code",
   "execution_count": 10,
   "metadata": {},
   "outputs": [
    {
     "data": {
      "text/plain": [
       "role\n",
       "Offense    64\n",
       "Support    58\n",
       "Tank       53\n",
       "dtype: int64"
      ]
     },
     "execution_count": 10,
     "metadata": {},
     "output_type": "execute_result"
    }
   ],
   "source": [
    "rolegroup.size()"
   ]
  },
  {
   "cell_type": "code",
   "execution_count": 102,
   "metadata": {},
   "outputs": [
    {
     "data": {
      "image/png": "[encoded data removed]",
      "text/plain": [
       "<Figure size 576x576 with 1 Axes>"
      ]
     },
     "metadata": {},
     "output_type": "display_data"
    }
   ],
   "source": [
    "rolepie=rolegroup.size().sort_values(ascending=False)\n",
    "rolepie.columns=['role','size']\n",
    "plot = rolepie.plot.pie(y='size', figsize=(8, 8))"
   ]
  },
  {
   "cell_type": "code",
   "execution_count": 11,
   "metadata": {},
   "outputs": [
    {
     "data": {
      "text/html": [
       "<div>\n",
       "<style scoped>\n",
       "    .dataframe tbody tr th:only-of-type {\n",
       "        vertical-align: middle;\n",
       "    }\n",
       "\n",
       "    .dataframe tbody tr th {\n",
       "        vertical-align: top;\n",
       "    }\n",
       "\n",
       "    .dataframe thead th {\n",
       "        text-align: right;\n",
       "    }\n",
       "</style>\n",
       "<table border=\"1\" class=\"dataframe\">\n",
       "  <thead>\n",
       "    <tr style=\"text-align: right;\">\n",
       "      <th></th>\n",
       "      <th>eliminations</th>\n",
       "      <th>deaths</th>\n",
       "      <th>damage</th>\n",
       "      <th>healing</th>\n",
       "    </tr>\n",
       "    <tr>\n",
       "      <th>role</th>\n",
       "      <th></th>\n",
       "      <th></th>\n",
       "      <th></th>\n",
       "      <th></th>\n",
       "    </tr>\n",
       "  </thead>\n",
       "  <tbody>\n",
       "    <tr>\n",
       "      <th>Offense</th>\n",
       "      <td>16.39</td>\n",
       "      <td>5.15</td>\n",
       "      <td>7310.16</td>\n",
       "      <td>2614.69</td>\n",
       "    </tr>\n",
       "    <tr>\n",
       "      <th>Support</th>\n",
       "      <td>12.10</td>\n",
       "      <td>4.42</td>\n",
       "      <td>4911.69</td>\n",
       "      <td>7813.31</td>\n",
       "    </tr>\n",
       "    <tr>\n",
       "      <th>Tank</th>\n",
       "      <td>16.28</td>\n",
       "      <td>5.14</td>\n",
       "      <td>6485.91</td>\n",
       "      <td>193.87</td>\n",
       "    </tr>\n",
       "  </tbody>\n",
       "</table>\n",
       "</div>"
      ],
      "text/plain": [
       "         eliminations  deaths   damage  healing\n",
       "role                                           \n",
       "Offense         16.39    5.15  7310.16  2614.69\n",
       "Support         12.10    4.42  4911.69  7813.31\n",
       "Tank            16.28    5.14  6485.91   193.87"
      ]
     },
     "execution_count": 11,
     "metadata": {},
     "output_type": "execute_result"
    }
   ],
   "source": [
    "rolegroup.mean().round(2)"
   ]
  },
  {
   "cell_type": "code",
   "execution_count": 12,
   "metadata": {},
   "outputs": [],
   "source": [
    "%matplotlib inline"
   ]
  },
  {
   "cell_type": "code",
   "execution_count": 37,
   "metadata": {},
   "outputs": [
    {
     "data": {
      "text/html": [
       "<script>requirejs.config({paths: { 'plotly': ['https://cdn.plot.ly/plotly-latest.min']},});if(!window.Plotly) {{require(['plotly'],function(plotly) {window.Plotly=plotly;});}}</script>"
      ],
      "text/vnd.plotly.v1+html": [
       "<script>requirejs.config({paths: { 'plotly': ['https://cdn.plot.ly/plotly-latest.min']},});if(!window.Plotly) {{require(['plotly'],function(plotly) {window.Plotly=plotly;});}}</script>"
      ]
     },
     "metadata": {},
     "output_type": "display_data"
    }
   ],
   "source": [
    "import numpy as np\n",
    "from matplotlib import pyplot as plt\n",
    "plt.style.use('ggplot')\n",
    "import plotly\n",
    "# connected=True means it will download the latest version of plotly javascript library.\n",
    "plotly.offline.init_notebook_mode(connected=True)"
   ]
  },
  {
   "cell_type": "code",
   "execution_count": 70,
   "metadata": {
    "scrolled": false
   },
   "outputs": [
    {
     "data": {
      "text/html": [
       "<script>requirejs.config({paths: { 'plotly': ['https://cdn.plot.ly/plotly-latest.min']},});if(!window.Plotly) {{require(['plotly'],function(plotly) {window.Plotly=plotly;});}}</script>"
      ],
      "text/vnd.plotly.v1+html": [
       "<script>requirejs.config({paths: { 'plotly': ['https://cdn.plot.ly/plotly-latest.min']},});if(!window.Plotly) {{require(['plotly'],function(plotly) {window.Plotly=plotly;});}}</script>"
      ]
     },
     "metadata": {},
     "output_type": "display_data"
    },
    {
     "data": {
      "application/vnd.plotly.v1+json": {
       "data": [
        {
         "text": [
          "Offense",
          "Tank",
          "Support"
         ],
         "type": "bar",
         "x": [
          "Offense",
          "Tank",
          "Support"
         ],
         "y": [
          16.38765625,
          16.28283018867925,
          12.099482758620685
         ]
        }
       ],
       "layout": {
        "title": "Average Elimination by Role"
       }
      },
      "text/html": [
       "<div id=\"c8ec0250-a556-41b4-a0f1-c13df67f6c19\" style=\"height: 525px; width: 100%;\" class=\"plotly-graph-div\"></div><script type=\"text/javascript\">require([\"plotly\"], function(Plotly) { window.PLOTLYENV=window.PLOTLYENV || {};window.PLOTLYENV.BASE_URL=\"https://plot.ly\";Plotly.newPlot(\"c8ec0250-a556-41b4-a0f1-c13df67f6c19\", [{\"type\": \"bar\", \"x\": [\"Offense\", \"Tank\", \"Support\"], \"y\": [16.38765625, 16.28283018867925, 12.099482758620685], \"text\": [\"Offense\", \"Tank\", \"Support\"]}], {\"title\": \"Average Elimination by Role\"}, {\"showLink\": false, \"linkText\": \"Export to plot.ly\"})});</script>"
      ],
      "text/vnd.plotly.v1+html": [
       "<div id=\"c8ec0250-a556-41b4-a0f1-c13df67f6c19\" style=\"height: 525px; width: 100%;\" class=\"plotly-graph-div\"></div><script type=\"text/javascript\">require([\"plotly\"], function(Plotly) { window.PLOTLYENV=window.PLOTLYENV || {};window.PLOTLYENV.BASE_URL=\"https://plot.ly\";Plotly.newPlot(\"c8ec0250-a556-41b4-a0f1-c13df67f6c19\", [{\"type\": \"bar\", \"x\": [\"Offense\", \"Tank\", \"Support\"], \"y\": [16.38765625, 16.28283018867925, 12.099482758620685], \"text\": [\"Offense\", \"Tank\", \"Support\"]}], {\"title\": \"Average Elimination by Role\"}, {\"showLink\": false, \"linkText\": \"Export to plot.ly\"})});</script>"
      ]
     },
     "metadata": {},
     "output_type": "display_data"
    }
   ],
   "source": [
    "# Offenseplayers_elims=playerstats.loc[(playerstats[\"role\"]==\"Offense\")]['eliminations']\n",
    "# Supportplayers_elims=playerstats.loc[(playerstats[\"role\"]==\"Support\")]['eliminations']\n",
    "# Tankplayers_elims=playerstats.loc[(playerstats[\"role\"]==\"Tank\")]['eliminations']\n",
    "import numpy as np\n",
    "from matplotlib import pyplot as plt\n",
    "plt.style.use('ggplot')\n",
    "import plotly\n",
    "from plotly.graph_objs import Figure, Histogram, Layout, Bar\n",
    "plotly.offline.init_notebook_mode(connected=True)\n",
    "\n",
    "\n",
    "role_elims = playerstats.groupby('role')['eliminations'].mean().sort_values(ascending=False).reset_index()\n",
    "data = [Bar(x=role_elims['role'], y=role_elims['eliminations'], text=role_elims['role'])]\n",
    "layout = Layout(title=\"Average Elimination by Role\")\n",
    "\n",
    "fig = Figure(data=data, layout=layout)\n",
    "\n",
    "plotly.offline.iplot(fig,show_link=False)\n"
   ]
  },
  {
   "cell_type": "code",
   "execution_count": 71,
   "metadata": {},
   "outputs": [
    {
     "data": {
      "application/vnd.plotly.v1+json": {
       "data": [
        {
         "text": [
          "Offense",
          "Tank",
          "Support"
         ],
         "type": "bar",
         "x": [
          "Offense",
          "Tank",
          "Support"
         ],
         "y": [
          5.154218749999997,
          5.1373584905660366,
          4.422758620689657
         ]
        }
       ],
       "layout": {
        "title": "Average Deaths by Role"
       }
      },
      "text/html": [
       "<div id=\"59d2df7e-4bee-4767-ad97-8127e928fc97\" style=\"height: 525px; width: 100%;\" class=\"plotly-graph-div\"></div><script type=\"text/javascript\">require([\"plotly\"], function(Plotly) { window.PLOTLYENV=window.PLOTLYENV || {};window.PLOTLYENV.BASE_URL=\"https://plot.ly\";Plotly.newPlot(\"59d2df7e-4bee-4767-ad97-8127e928fc97\", [{\"type\": \"bar\", \"x\": [\"Offense\", \"Tank\", \"Support\"], \"y\": [5.154218749999997, 5.1373584905660366, 4.422758620689657], \"text\": [\"Offense\", \"Tank\", \"Support\"]}], {\"title\": \"Average Deaths by Role\"}, {\"showLink\": false, \"linkText\": \"Export to plot.ly\"})});</script>"
      ],
      "text/vnd.plotly.v1+html": [
       "<div id=\"59d2df7e-4bee-4767-ad97-8127e928fc97\" style=\"height: 525px; width: 100%;\" class=\"plotly-graph-div\"></div><script type=\"text/javascript\">require([\"plotly\"], function(Plotly) { window.PLOTLYENV=window.PLOTLYENV || {};window.PLOTLYENV.BASE_URL=\"https://plot.ly\";Plotly.newPlot(\"59d2df7e-4bee-4767-ad97-8127e928fc97\", [{\"type\": \"bar\", \"x\": [\"Offense\", \"Tank\", \"Support\"], \"y\": [5.154218749999997, 5.1373584905660366, 4.422758620689657], \"text\": [\"Offense\", \"Tank\", \"Support\"]}], {\"title\": \"Average Deaths by Role\"}, {\"showLink\": false, \"linkText\": \"Export to plot.ly\"})});</script>"
      ]
     },
     "metadata": {},
     "output_type": "display_data"
    }
   ],
   "source": [
    "role_deaths = playerstats.groupby('role')['deaths'].mean().sort_values(ascending=False).reset_index()\n",
    "data = [Bar(x=role_deaths['role'], y=role_deaths['deaths'], text=role_deaths['role'])]\n",
    "layout = Layout(title=\"Average Deaths by Role\")\n",
    "\n",
    "fig = Figure(data=data, layout=layout)\n",
    "\n",
    "plotly.offline.iplot(fig,show_link=False)"
   ]
  },
  {
   "cell_type": "code",
   "execution_count": 72,
   "metadata": {},
   "outputs": [
    {
     "data": {
      "application/vnd.plotly.v1+json": {
       "data": [
        {
         "text": [
          "Offense",
          "Tank",
          "Support"
         ],
         "type": "bar",
         "x": [
          "Offense",
          "Tank",
          "Support"
         ],
         "y": [
          7310.15625,
          6485.905660377359,
          4911.689655172414
         ]
        }
       ],
       "layout": {
        "title": "Average Damage by Role"
       }
      },
      "text/html": [
       "<div id=\"a186cf3d-d0a4-4770-82f3-9bf1952f69b6\" style=\"height: 525px; width: 100%;\" class=\"plotly-graph-div\"></div><script type=\"text/javascript\">require([\"plotly\"], function(Plotly) { window.PLOTLYENV=window.PLOTLYENV || {};window.PLOTLYENV.BASE_URL=\"https://plot.ly\";Plotly.newPlot(\"a186cf3d-d0a4-4770-82f3-9bf1952f69b6\", [{\"type\": \"bar\", \"x\": [\"Offense\", \"Tank\", \"Support\"], \"y\": [7310.15625, 6485.905660377359, 4911.689655172414], \"text\": [\"Offense\", \"Tank\", \"Support\"]}], {\"title\": \"Average Damage by Role\"}, {\"showLink\": false, \"linkText\": \"Export to plot.ly\"})});</script>"
      ],
      "text/vnd.plotly.v1+html": [
       "<div id=\"a186cf3d-d0a4-4770-82f3-9bf1952f69b6\" style=\"height: 525px; width: 100%;\" class=\"plotly-graph-div\"></div><script type=\"text/javascript\">require([\"plotly\"], function(Plotly) { window.PLOTLYENV=window.PLOTLYENV || {};window.PLOTLYENV.BASE_URL=\"https://plot.ly\";Plotly.newPlot(\"a186cf3d-d0a4-4770-82f3-9bf1952f69b6\", [{\"type\": \"bar\", \"x\": [\"Offense\", \"Tank\", \"Support\"], \"y\": [7310.15625, 6485.905660377359, 4911.689655172414], \"text\": [\"Offense\", \"Tank\", \"Support\"]}], {\"title\": \"Average Damage by Role\"}, {\"showLink\": false, \"linkText\": \"Export to plot.ly\"})});</script>"
      ]
     },
     "metadata": {},
     "output_type": "display_data"
    }
   ],
   "source": [
    "role_damage = playerstats.groupby('role')['damage'].mean().sort_values(ascending=False).reset_index()\n",
    "data = [Bar(x=role_damage['role'], y=role_damage['damage'], text=role_damage['role'])]\n",
    "layout = Layout(title=\"Average Damage by Role\")\n",
    "\n",
    "fig = Figure(data=data, layout=layout)\n",
    "\n",
    "plotly.offline.iplot(fig,show_link=False)"
   ]
  },
  {
   "cell_type": "code",
   "execution_count": 77,
   "metadata": {
    "scrolled": true
   },
   "outputs": [
    {
     "data": {
      "application/vnd.plotly.v1+json": {
       "data": [
        {
         "text": [
          "Support",
          "Offense",
          "Tank"
         ],
         "type": "bar",
         "x": [
          "Support",
          "Offense",
          "Tank"
         ],
         "y": [
          7813.310344827586,
          2614.6875,
          193.8679245283019
         ]
        }
       ],
       "layout": {
        "title": "Average Healing by Role"
       }
      },
      "text/html": [
       "<div id=\"f887b6a8-f531-40e1-aa9c-bee95a47e7b3\" style=\"height: 525px; width: 100%;\" class=\"plotly-graph-div\"></div><script type=\"text/javascript\">require([\"plotly\"], function(Plotly) { window.PLOTLYENV=window.PLOTLYENV || {};window.PLOTLYENV.BASE_URL=\"https://plot.ly\";Plotly.newPlot(\"f887b6a8-f531-40e1-aa9c-bee95a47e7b3\", [{\"type\": \"bar\", \"x\": [\"Support\", \"Offense\", \"Tank\"], \"y\": [7813.310344827586, 2614.6875, 193.8679245283019], \"text\": [\"Support\", \"Offense\", \"Tank\"]}], {\"title\": \"Average Healing by Role\"}, {\"showLink\": false, \"linkText\": \"Export to plot.ly\"})});</script>"
      ],
      "text/vnd.plotly.v1+html": [
       "<div id=\"f887b6a8-f531-40e1-aa9c-bee95a47e7b3\" style=\"height: 525px; width: 100%;\" class=\"plotly-graph-div\"></div><script type=\"text/javascript\">require([\"plotly\"], function(Plotly) { window.PLOTLYENV=window.PLOTLYENV || {};window.PLOTLYENV.BASE_URL=\"https://plot.ly\";Plotly.newPlot(\"f887b6a8-f531-40e1-aa9c-bee95a47e7b3\", [{\"type\": \"bar\", \"x\": [\"Support\", \"Offense\", \"Tank\"], \"y\": [7813.310344827586, 2614.6875, 193.8679245283019], \"text\": [\"Support\", \"Offense\", \"Tank\"]}], {\"title\": \"Average Healing by Role\"}, {\"showLink\": false, \"linkText\": \"Export to plot.ly\"})});</script>"
      ]
     },
     "metadata": {},
     "output_type": "display_data"
    }
   ],
   "source": [
    "role_healing = playerstats.groupby('role')['healing'].mean().sort_values(ascending=False).reset_index()\n",
    "data = [Bar(x=role_healing['role'], y=role_healing['healing'], text=role_healing['role'])]\n",
    "layout = Layout(title=\"Average Healing by Role\")\n",
    "\n",
    "fig = Figure(data=data, layout=layout)\n",
    "\n",
    "plotly.offline.iplot(fig,show_link=False)"
   ]
  },
  {
   "cell_type": "code",
   "execution_count": null,
   "metadata": {},
   "outputs": [],
   "source": []
  }
 ],
 "metadata": {
  "kernelspec": {
   "display_name": "Python 3",
   "language": "python",
   "name": "python3"
  },
  "language_info": {
   "codemirror_mode": {
    "name": "ipython",
    "version": 3
   },
   "file_extension": ".py",
   "mimetype": "text/x-python",
   "name": "python",
   "nbconvert_exporter": "python",
   "pygments_lexer": "ipython3",
   "version": "3.7.3"
  }
 },
 "nbformat": 4,
 "nbformat_minor": 2
}
